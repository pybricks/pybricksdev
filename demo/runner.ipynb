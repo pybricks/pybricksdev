{
 "cells": [
  {
   "cell_type": "code",
   "execution_count": null,
   "metadata": {},
   "outputs": [],
   "source": [
    "from pybricksdev.connections import EV3Connection, BLEPUPConnection, USBPUPConnection\n",
    "from pybricksdev.ble import find_device\n",
    "from asyncio import gather\n",
    "import logging\n",
    "\n",
    "logging.basicConfig(format='%(asctime)s: %(levelname)7s: %(message)s', level=logging.DEBUG)"
   ]
  },
  {
   "cell_type": "code",
   "execution_count": null,
   "metadata": {},
   "outputs": [],
   "source": [
    "# Go to help > Edit Keyboard Shortcuts to bind \"run all cells\" to your favorite key.\n",
    "# This way you can easily run all cells again without resetting the kernel.\n",
    "# That way, your hubs stay connected so that programs runs quickly.\n",
    "\n",
    "try:\n",
    "    ev3, hub, spike\n",
    "except:\n",
    "    spike = USBPUPConnection()\n",
    "    await spike.connect('Pybricks Hub')\n",
    "    \n",
    "    ev3 = EV3Connection()\n",
    "    await ev3.connect('192.168.133.101')\n",
    "    \n",
    "    hub = BLEPUPConnection()\n",
    "    address = await find_device('Pybricks Hub')\n",
    "    await hub.connect(address)\n",
    "    \n"
   ]
  },
  {
   "cell_type": "code",
   "execution_count": null,
   "metadata": {},
   "outputs": [],
   "source": [
    "%%file _ev3.py\n",
    "\n",
    "print(\"hi from ev3\")"
   ]
  },
  {
   "cell_type": "code",
   "execution_count": null,
   "metadata": {},
   "outputs": [],
   "source": [
    "%%file _pup.py\n",
    "\n",
    "print(\"hi from control+\")\n"
   ]
  },
  {
   "cell_type": "code",
   "execution_count": null,
   "metadata": {},
   "outputs": [],
   "source": [
    "%%file _spike.py\n",
    "\n",
    "print(\"hi from spike\")\n"
   ]
  },
  {
   "cell_type": "code",
   "execution_count": null,
   "metadata": {},
   "outputs": [],
   "source": [
    "await gather(hub.run('_pup.py'), spike.run('_spike.py'), ev3.run('_ev3.py'))"
   ]
  },
  {
   "cell_type": "code",
   "execution_count": null,
   "metadata": {},
   "outputs": [],
   "source": [
    "# await ev3.get('_ev3.py')\n",
    "# await hub.disconnect()\n",
    "# await spike.disconnect()\n",
    "# await ev3.disconnect()"
   ]
  }
 ],
 "metadata": {
  "kernelspec": {
   "display_name": "Python 3",
   "language": "python",
   "name": "python3"
  },
  "language_info": {
   "codemirror_mode": {
    "name": "ipython",
    "version": 3
   },
   "file_extension": ".py",
   "mimetype": "text/x-python",
   "name": "python",
   "nbconvert_exporter": "python",
   "pygments_lexer": "ipython3",
   "version": "3.8.2"
  }
 },
 "nbformat": 4,
 "nbformat_minor": 4
}